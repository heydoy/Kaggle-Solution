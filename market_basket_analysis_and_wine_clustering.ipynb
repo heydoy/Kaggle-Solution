{
  "nbformat": 4,
  "nbformat_minor": 0,
  "metadata": {
    "colab": {
      "name": "market basket analysis and wine clustering.ipynb",
      "provenance": [],
      "collapsed_sections": [],
      "authorship_tag": "ABX9TyNJT4QhRnQq762DZMYCZOuo",
      "include_colab_link": true
    },
    "kernelspec": {
      "name": "python3",
      "display_name": "Python 3"
    },
    "language_info": {
      "name": "python"
    }
  },
  "cells": [
    {
      "cell_type": "markdown",
      "metadata": {
        "id": "view-in-github",
        "colab_type": "text"
      },
      "source": [
        "<a href=\"https://colab.research.google.com/github/heydoy/Kaggle-Solution/blob/main/market_basket_analysis_and_wine_clustering.ipynb\" target=\"_parent\"><img src=\"https://colab.research.google.com/assets/colab-badge.svg\" alt=\"Open In Colab\"/></a>"
      ]
    },
    {
      "cell_type": "code",
      "source": [
        "# Packages\n",
        "import pandas as pd\n",
        "import numpy as np\n",
        "\n",
        "## Scikit-Learn"
      ],
      "metadata": {
        "id": "bejaFcLqtF_S"
      },
      "execution_count": null,
      "outputs": []
    },
    {
      "cell_type": "code",
      "execution_count": 23,
      "metadata": {
        "colab": {
          "base_uri": "https://localhost:8080/"
        },
        "id": "xtmfdJnfkcCY",
        "outputId": "016492ed-dc9c-47d0-c408-22244848433a"
      },
      "outputs": [
        {
          "name": "stdout",
          "output_type": "stream",
          "text": [
            "\n",

            "    1. Market Basket Analysis\n",
            "    2. Wine Clustering\n",
            "    3. Quit\n",
            "    \n",
            "3\n"
          ]
        }
      ],
      "source": [
        "# 메인 영역\n",
        "\n",
        "while(True) : \n",
        "\n",
        "    print(\"\"\"\n",
        "    \n",
        "    1. Market Basket Analysis\n",
        "    2. Wine Clustering\n",
        "    3. Quit\n",
        "    \"\"\")\n",
        "    choice = input()\n",
        "    if int(choice) == 1 : \n",
        "        # 1. market basket analysis\n",
        "        market_basket_analysis()\n",
        "    elif int(choice) == 2 : \n",
        "        #2. wine clustering\n",
        "        wine_clustering()\n",
        "    elif int(choice) == 3 :\n",
        "        # quit\n",
        "        break\n",
        "    else :\n",
        "        print(\"잘못 입력하셨습니다.\")\n"
      ]
    },
    {
      "cell_type": "code",
      "source": [
        "# 1. MARKET BASKET ANALYSIS\n",
        "# Dataset Link : https://www.kaggle.com/datasets/irfanasrullah/groceries"
      ],
      "metadata": {
        "id": "chdbs-c0lUE-"
      },
      "execution_count": null,
      "outputs": []
    },
    {
      "cell_type": "markdown",
      "source": [
        "## 1. Market Basket Analysis (2/2)\n",
        "#### Find frequent sets using mlxtend\n",
        "\n",
        "① Read the dataset\n",
        "– groceries - groceries.csv\n",
        "(https://www.kaggle.com/datasets/irfanasrullah/groceries)\n",
        "\n",
        "② Receive user input as follows:\n",
        "\n",
        "```\n",
        "Select the algorithm ((a)priori or (f)p-growth): f\n",
        "Enter the minimum support: 0.1\n",
        "```\n",
        "\n",
        "③ Find frequent sets using mlxtend\n",
        "\n",
        "– Apriori\n",
        "• http://rasbt.github.io/mlxtend/user_guide/frequent_patterns/apriori/\n",
        "\n",
        "– FP-growth\n",
        "• http://rasbt.github.io/mlxtend/user_guide/frequent_patterns/fpgrowth/\n",
        "\n",
        "④ Print the found frequent sets using the following code\n",
        "\n",
        "> apriori(df, min_support=..., use_colnames=True)\n",
        "\n",
        "> fpgrowth(df, min_support=..., use_colnames=True)\n",
        "\n",
        "⑤ Return to the initial screen\n",
        "\n"
      ],
      "metadata": {
        "id": "h3zbzZqEmFf5"
      }
    },
    {
      "cell_type": "code",
      "source": [
        "def market_basket_analysis() :\n",
        "    # 사용자가 입력하는 부분\n",
        "    algorithm = str(input(\"Select the algorithm ((a)priori or (f)p-growth): :\"))\n",
        "    min_support = float(input(\"Enter the minimum support : \"))\n",
        "\n",
        "    # 데이터셋 정의\n",
        "    data = \"\"\n"
      ],
      "metadata": {
        "id": "RYkXgTr4q94i"
      },
      "execution_count": 20,
      "outputs": []
    },
    {
      "cell_type": "code",
      "source": [
        "# WINE CLUSTERING \n",
        "# Dataset Link : https://www.kaggle.com/datasets/harrywang/wine-dataset-for-clustering"
      ],
      "metadata": {
        "id": "UBhC7F87lYSJ"
      },
      "execution_count": 5,
      "outputs": []
    },
    {
      "cell_type": "markdown",
      "source": [
        "## 2. Wine Clustering\n",
        "##### Cluster wines using scikit-learn\n",
        "\n",
        "① Read the dataset\n",
        "– wine-clustering.csv\n",
        "(https://www.kaggle.com/datasets/harrywang/wine-dataset-for-clustering)\n",
        "\n",
        "② Receive user input as follows:\n",
        "\n",
        "```\n",
        "Select the algorithm ((k)-means or (h)ierarchical): k\n",
        "Input the number of clusters: 4\n",
        "```\n",
        "\n",
        "③ Cluster wines using scikit-learn\n",
        "\n",
        "– k-means\n",
        "• https://scikit-learn.org/stable/modules/generated/sklearn.cluster.KMeans.html\n",
        "\n",
        "–  Agglomerative clustering\n",
        "• https://scikitlearn.org/stable/modules/generated/sklearn.cluster.AgglomerativeClustering.html\n",
        "\n",
        "\n",
        "④ Print the cluster labels of each wine as follows:\n",
        "\n",
        "\n",
        "> [1 1 1 0 0 0 ...] // this is just an example!\n",
        "\n",
        "⑤ Return to the initial screen\n",
        "\n"
      ],
      "metadata": {
        "id": "nnauWjWtm_Gh"
      }
    },
    {
      "cell_type": "code",
      "source": [
        "def wine_clustering() : \n",
        "    # 사용자가 입력하는 부분\n",
        "    algorithm = str(input(\"Select the algorithm ((k)-means or (h)ierarchical): \"))\n",
        "    num_clusters = int(input(\"Input the number of clusters: \"))\n",
        "\n",
        "    # 데이터셋 정의\n",
        "    data = \"\""
      ],
      "metadata": {
        "id": "MqfmkT3trR8S"
      },
      "execution_count": 21,
      "outputs": []
    },
    {
      "cell_type": "markdown",
      "source": [
        "# Requirements (Important!)\n",
        "\n",
        "\n",
        "You can assume that the **data set file exist in the same folder as\n",
        "your program file (.py)**\n",
        "– groceries - groceries.csv\n",
        "– wine-clustering.csv\n",
        "\n",
        "```\n",
        "C:> python studentID.py\n",
        "```\n",
        "You must use the default values for all parameters for clustering\n",
        "** except for the following two parameters: **\n",
        "\n",
        "> KMeans(n_clusters = ..., random_state = 0)\n",
        "\n",
        "> AgglomerativeClustering(n_clusters = ...)\n",
        "\n",
        "\n",
        "\n",
        "\n",
        "\n",
        "\n"
      ],
      "metadata": {
        "id": "x3g0vtKZoFxa"
      }
    },
    {
      "cell_type": "markdown",
      "source": [
        "# FAQ\n",
        "\n",
        "Q) 초기 화면에서 1, 2, 3를 클릭하게 만들어야 하나요?\n",
        "\n",
        "A) 아닙니다. 내가 동영상에서 설명을 잘못했습니다. 사용자가 1, 2, 3 숫자를 입력하고 엔터를 치도록 하면 됩니다.\n",
        "\n",
        "\n",
        "\n",
        "Q) Apriori나 fpgrowth 알고리즘을 사용하려면 데이터 형식을 바꿔줘야하는데, 시간이 너무 오래걸려서요.(약 5-10분) 혹시 시간은 상관 없는 것인가요 ?\n",
        "\n",
        "A) 네. 시간은 측정하지 않습니다. 다만 혹시 너무 오래 걸려서 조교가 무한루프 등으로 오해할 것 같으면 코드 내 코멘트나 별도의 readme 파일을 첨부해 주세요.\n",
        "\n",
        "\n",
        "\n",
        "Q) Wine clustering에서 attribute의 범위가 서로 좀 다른데 normalization해주어야 하나요?\n",
        "\n",
        "A) 원칙은 해주는 것이 맞는데, 수많은 normalization 방법들이 있고 각 방법마다 clustering 결과가 달라져서 하나의 기준으로 채점할 방법이 없습니다. 따라서 이번 과제는 normalization/standardization은 하지 않는 것으로 하겠습니다. 다만 실전에서는 꼭 해주어야 함을 기억해주세요."
      ],
      "metadata": {
        "id": "YI62jPPQsXKC"
      }
    },
    {
      "cell_type": "markdown",
      "source": [
        "# Test case\n",
        "안녕하세요?\n",
        "\n",
        "Homework #2, #3에 대한 Test Case(예제)를 공유합니다.\n",
        "\n",
        "제출 전에 본인의 프로그램이 다음과 같은 답을 올바르게 내는지 확인해보기 바랍니다.\n",
        "\n",
        "화면의 포맷팅은 서로 다를 수 있으므로 세세한 화면 출력 내용은 일치하지 않아도 핵심 결과 값만 같으면 됩니다.\n",
        "\n",
        "\n",
        "\n",
        "<Homework #2>\n",
        "\n",
        "(Test case 1)\n",
        "\n",
        "입력: 초기 화면 -> 1 (엔터) -> a (엔터) -> 0.1 (엔터)\n",
        "\n",
        "결과: (순서 상관 없음)\n",
        "\n",
        "\n",
        "```\n",
        "    support  itemsets\n",
        "\n",
        "0  0.110524  (bottled water)\n",
        "\n",
        "1  0.193493  (other vegetables)\n",
        "\n",
        "2  0.183935  (rolls/buns)\n",
        "\n",
        "3  0.108998  (root vegetables)\n",
        "\n",
        "4  0.174377  (soda)\n",
        "\n",
        "5  0.104931  (tropical fruit)\n",
        "\n",
        "6  0.255516  (whole milk)\n",
        "\n",
        "7  0.139502  (yogurt)\n",
        "```\n",
        "\n",
        "\n",
        "(Test case 2)\n",
        "\n",
        "입력: 초기 화면 -> 1 (엔터) -> f (엔터) -> 0.1 (엔터)\n",
        "\n",
        "결과: (순서 상관 없음)\n",
        "\n",
        "\n",
        "```\n",
        "    support  itemsets\n",
        "\n",
        "0  0.139502  (yogurt)\n",
        "\n",
        "1  0.104931  (tropical fruit)\n",
        "\n",
        "2  0.255516  (whole milk)\n",
        "\n",
        "3  0.193493  (other vegetables)\n",
        "\n",
        "4  0.183935  (rolls/buns)\n",
        "\n",
        "5  0.110524  (bottled water)\n",
        "\n",
        "6  0.174377  (soda)\n",
        "\n",
        "7  0.108998  (root vegetables)\n",
        "```\n",
        "\n",
        "\n",
        "<Homework #3>\n",
        "\n",
        "(Test case 1)\n",
        "\n",
        "입력: 초기 화면 -> 2 (엔터) -> k (엔터) -> 4 (엔터)\n",
        "\n",
        "결과:\n",
        "```\n",
        "[3, 3, 1, 1, 2, 1, 1, 1, 3, 3, 1, 1, 1, 3, 1, 1, 1, 3, 1, 2, 2, 2,\n",
        "3, 3, 2, 2, 1, 1, 3, 3, 1, 1, 3, 1, 3, 3, 3, 3, 3, 2, 2, 3, 3, 2,\n",
        "3, 3, 3, 3, 3, 1, 3, 1, 1, 1, 3, 3, 3, 1, 1, 0, 2, 0, 2, 0, 0, 2,\n",
        "0, 0, 2, 2, 3, 0, 0, 3, 3, 0, 0, 0, 2, 0, 0, 2, 2, 0, 0, 0, 0, 0,\n",
        "2, 2, 0, 0, 0, 0, 0, 3, 2, 0, 2, 0, 2, 0, 0, 0, 2, 0, 0, 0, 0, 2,\n",
        "0, 0, 2, 0, 0, 0, 0, 0, 0, 0, 2, 0, 0, 0, 0, 0, 0, 0, 0, 2, 2, 0,\n",
        "0, 2, 2, 2, 2, 0, 2, 2, 2, 2, 0, 0, 2, 2, 0, 2, 2, 0, 0, 0, 0, 2,\n",
        "2, 2, 0, 3, 2, 2, 0, 2, 0, 2, 2, 0, 2, 2, 2, 2, 0, 0, 2, 2, 2, 2,\n",
        "2, 0]\n",
        "```\n",
        "\n",
        "\n",
        "(Test case 2)\n",
        "\n",
        "입력: 초기 화면 -> 2 (엔터) -> h (엔터) -> 4 (엔터)\n",
        "\n",
        "결과:\n",
        "```\n",
        "[3, 3, 3, 1, 2, 1, 1, 1, 3, 3, 1, 1, 1, 3, 1, 1, 1, 3, 1, 2, 2, 2,\n",
        "3, 3, 2, 2, 3, 1, 2, 3, 1, 1, 3, 1, 3, 2, 2, 3, 3, 2, 2, 3, 3, 2,\n",
        "2, 3, 3, 3, 3, 1, 3, 1, 3, 1, 3, 3, 3, 1, 1, 0, 2, 0, 2, 0, 0, 2,\n",
        "0, 0, 2, 2, 2, 0, 0, 3, 2, 0, 0, 0, 2, 0, 0, 2, 2, 0, 0, 0, 0, 0,\n",
        "2, 2, 0, 0, 0, 0, 0, 3, 2, 0, 2, 0, 2, 0, 0, 0, 2, 0, 0, 0, 0, 2,\n",
        "0, 0, 0, 0, 0, 0, 0, 0, 0, 0, 2, 0, 0, 0, 0, 0, 0, 0, 0, 0, 2, 0,\n",
        "0, 0, 2, 2, 2, 0, 0, 0, 0, 2, 0, 0, 2, 2, 0, 2, 2, 0, 0, 0, 0, 2,\n",
        "2, 2, 0, 2, 2, 2, 0, 2, 0, 2, 2, 0, 2, 2, 2, 2, 0, 0, 2, 2, 2, 2,\n",
        "2, 0]\n",
        "```\n",
        "\n",
        "혹시 여러분의 코드는 올바르게 짠 것 같은데 답이 이상한 것 같으면 알려주세요.\n",
        "\n",
        "그럼 모두 과제 잘 마무리하기 바랍니다.\n",
        "\n",
        "고맙습니다."
      ],
      "metadata": {
        "id": "cIQ4oKr7r5tb"
      }
    },
    {
      "cell_type": "code",
      "source": [
        ""
      ],
      "metadata": {
        "id": "ZKVBcZHvoCkC"
      },
      "execution_count": null,
      "outputs": []
    }
  ]
}
